{
 "cells": [
  {
   "cell_type": "markdown",
   "metadata": {},
   "source": [
    "# Automating Docker with Python"
   ]
  },
  {
   "cell_type": "markdown",
   "metadata": {},
   "source": [
    "In this post we're going to cover a bit of Docker automation using Python."
   ]
  },
  {
   "cell_type": "markdown",
   "metadata": {},
   "source": [
    "## Setting up your environment\n",
    "Docker itself has a nice command-line interface, and if you wanted to you could do some interaction with docker by interacting with the shell through Python.  However, here we're going to be working with the [Docker Remote Api](https://docs.docker.com/engine/reference/api/docker_remote_api/) on our local machine.\n",
    "\n",
    "### Enabling the Remote Api\n",
    "Before you can use the Remote Api, you're going to need to make sure that Docker is configured with the Remote API enabled.\n",
    "\n",
    "#### On Linux\n",
    "If you're running on Linux, you're going to want to edit the Docker config file at **/etc/init/docker.conf**\n",
    "\n",
    "Add this line:\n",
    "`DOCKER_OPTS='-H tcp://0.0.0.0:4243 -H unix:///var/run/docker.sock'`\n",
    "\n",
    "Then restart docker\n",
    "`service docker restart`\n",
    "\n",
    "#### On Windows\n",
    "For Docker on Windows, the Remote Api is enabled by default.\n"
   ]
  },
  {
   "cell_type": "markdown",
   "metadata": {},
   "source": [
    "## Setting up Python\n",
    "Next we'll want to install the Python packages needed to work with the docker API\n",
    "\n",
    "`pip install docker`\n",
    "\n",
    "And if you're on Windows, you may need to also install\n",
    "`pip install pypiwin32`\n"
   ]
  },
  {
   "cell_type": "markdown",
   "metadata": {},
   "source": [
    "## Working with Docker\n",
    "Now that we have the remote API enabled on our machine, we can begin to do things with Docker itself."
   ]
  },
  {
   "cell_type": "markdown",
   "metadata": {},
   "source": [
    "Let's start by just listing the containers running on our machine"
   ]
  },
  {
   "cell_type": "code",
   "execution_count": 3,
   "metadata": {
    "scrolled": true
   },
   "outputs": [
    {
     "data": {
      "text/plain": [
       "[]"
      ]
     },
     "execution_count": 3,
     "metadata": {},
     "output_type": "execute_result"
    }
   ],
   "source": [
    "import docker\n",
    "client = docker.from_env()\n",
    "client.containers.list()"
   ]
  },
  {
   "cell_type": "markdown",
   "metadata": {},
   "source": [
    "Nuthin.  OK, that's expected.  How about something simple, like running an ubuntu instance?"
   ]
  },
  {
   "cell_type": "code",
   "execution_count": null,
   "metadata": {},
   "outputs": [],
   "source": [
    "client.containers.run(\"ubuntu:latest\", \"echo hello world\")"
   ]
  },
  {
   "cell_type": "code",
   "execution_count": null,
   "metadata": {},
   "outputs": [],
   "source": []
  }
 ],
 "metadata": {
  "kernelspec": {
   "display_name": "Python 3",
   "language": "python",
   "name": "python3"
  },
  "language_info": {
   "codemirror_mode": {
    "name": "ipython",
    "version": 3
   },
   "file_extension": ".py",
   "mimetype": "text/x-python",
   "name": "python",
   "nbconvert_exporter": "python",
   "pygments_lexer": "ipython3",
   "version": "3.6.2"
  }
 },
 "nbformat": 4,
 "nbformat_minor": 2
}
