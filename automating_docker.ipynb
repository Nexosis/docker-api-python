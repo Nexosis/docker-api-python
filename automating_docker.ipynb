{
 "cells": [
  {
   "cell_type": "markdown",
   "metadata": {},
   "source": [
    "# Automating Docker with Python"
   ]
  },
  {
   "cell_type": "markdown",
   "metadata": {},
   "source": [
    "In this post we're going to cover a bit of Docker automation using Python."
   ]
  },
  {
   "cell_type": "markdown",
   "metadata": {},
   "source": [
    "## Setting up your environment\n",
    "Docker itself has a nice command-line interface, and if you wanted to you could do some interaction with docker by interacting with the shell through Python.  However, here we're going to be working with the [Docker Remote Api](https://docs.docker.com/engine/reference/api/docker_remote_api/) on our local machine.\n",
    "\n",
    "### Enabling the Remote Api\n",
    "Before you can use the Remote Api, you're going to need to make sure that Docker is configured with the Remote API enabled.\n",
    "\n",
    "#### On Linux\n",
    "If you're running on Linux, you're going to want to edit the Docker config file at **/etc/init/docker.conf**\n",
    "\n",
    "Add this line:\n",
    "```DOCKER_OPTS='-H tcp://0.0.0.0:4243 -H unix:///var/run/docker.sock'```\n",
    "\n",
    "Then restart docker\n",
    "```service docker restart```\n",
    "\n",
    "#### On Windows\n",
    "For Docker on Windows, the Remote Api is enabled by default.\n"
   ]
  },
  {
   "cell_type": "markdown",
   "metadata": {},
   "source": [
    "## Setting up Python\n",
    "Next we'll want to install the Python packages needed to work with the docker API\n",
    "\n",
    "```pip install docker```\n",
    "\n",
    "And if you're on Windows, you may need to also install\n",
    "```pip install pypiwin32```\n"
   ]
  },
  {
   "cell_type": "markdown",
   "metadata": {},
   "source": [
    "## Hello World\n",
    "Now that we have the remote API enabled on our machine, we can begin to do things with Docker itself."
   ]
  },
  {
   "cell_type": "markdown",
   "metadata": {},
   "source": [
    "Let's start by just listing the containers running on our machine"
   ]
  },
  {
   "cell_type": "code",
   "execution_count": 3,
   "metadata": {
    "scrolled": true
   },
   "outputs": [
    {
     "data": {
      "text/plain": [
       "[]"
      ]
     },
     "execution_count": 3,
     "metadata": {},
     "output_type": "execute_result"
    }
   ],
   "source": [
    "import docker\n",
    "client = docker.from_env()\n",
    "client.containers.list()"
   ]
  },
  {
   "cell_type": "markdown",
   "metadata": {},
   "source": [
    "Nuthin.  OK, that's expected, and at least it shows that things are working.  \n",
    "\n",
    "Now how about we do something simple, like running an Ubuntu instance?"
   ]
  },
  {
   "cell_type": "code",
   "execution_count": 4,
   "metadata": {},
   "outputs": [
    {
     "data": {
      "text/plain": [
       "b'hello world\\n'"
      ]
     },
     "execution_count": 4,
     "metadata": {},
     "output_type": "execute_result"
    }
   ],
   "source": [
    "client.images.pull('ubuntu:latest')\n",
    "client.containers.run(\"ubuntu:latest\", \"echo hello world\")"
   ]
  },
  {
   "cell_type": "markdown",
   "metadata": {},
   "source": [
    "Great!  So, now what?"
   ]
  },
  {
   "cell_type": "markdown",
   "metadata": {},
   "source": [
    "## Yodawg\n",
    "So, I'm used to working on a Windows machine, and still do all of my development there.  However, if I want to mess around with any Data Science tooling in Python I'm going to want to use the [SciPy](https://www.scipy.org/) ecosystem of tools and libraries.\n",
    "\n",
    "However, installing the SciPy stack on a Windows machine isn't exactly the [friendliest](https://www.scipy.org/install.html) of processes.\n",
    "\n",
    ">Installing pandas and the rest of the NumPy and SciPy stack can be a little difficult for inexperienced users. [1](http://pandas.pydata.org/pandas-docs/stable/install.html)\n",
    "\n",
    "So, what about using Docker to stand up a Python environment with the SciPy stack installed?\n",
    "\n",
    "Since Jupyter notebooks are often a convenient way of demonstrating Python code and documentation, how about we stand up a Docker environment with both the SciPy stack and Jupyter?\n",
    "\n",
    "So, I'll put some Python and Jupyter in my Docker so that I can Python and Jupyter while I Python and Jupyter."
   ]
  },
  {
   "cell_type": "markdown",
   "metadata": {},
   "source": [
    "### Just get on with it\n",
    "Let's start by downloading a handy Docker image from Docker Hub with our Python environment setup."
   ]
  },
  {
   "cell_type": "code",
   "execution_count": null,
   "metadata": {},
   "outputs": [],
   "source": [
    "client.images.pull('jupyter/scipy-notebook')"
   ]
  },
  {
   "cell_type": "markdown",
   "metadata": {},
   "source": [
    "Once that's done (it'll take a while), we can spin up a container running Jupyter, with the SciPy stack installed."
   ]
  },
  {
   "cell_type": "code",
   "execution_count": null,
   "metadata": {},
   "outputs": [],
   "source": [
    "notebook = client.containers.run('jupyter/scipy-notebook', detach=True, command=\"start-notebook.sh --NotebookApp.token=''\", ports={'8888/tcp' : 8889})"
   ]
  },
  {
   "cell_type": "markdown",
   "metadata": {},
   "source": [
    "Viola!\n",
    "\n",
    "![running](img/running.png)"
   ]
  },
  {
   "cell_type": "markdown",
   "metadata": {},
   "source": [
    "## That's a wrap\n",
    "\n",
    "Obviously, this is an extremely simple example.  However, hopefully it whets your appetite for the things that you can do with access to simple virtualization with Docker through a powerfull programming language such as Python.\n"
   ]
  }
 ],
 "metadata": {
  "kernelspec": {
   "display_name": "Python 3",
   "language": "python",
   "name": "python3"
  },
  "language_info": {
   "codemirror_mode": {
    "name": "ipython",
    "version": 3
   },
   "file_extension": ".py",
   "mimetype": "text/x-python",
   "name": "python",
   "nbconvert_exporter": "python",
   "pygments_lexer": "ipython3",
   "version": "3.6.2"
  }
 },
 "nbformat": 4,
 "nbformat_minor": 2
}
